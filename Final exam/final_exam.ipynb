{
 "cells": [
  {
   "cell_type": "code",
   "execution_count": 1,
   "id": "a84a7acf-7935-4924-8f59-a3cb4fd262d3",
   "metadata": {},
   "outputs": [
    {
     "name": "stdout",
     "output_type": "stream",
     "text": [
      "Thu Jun 22 09:21:17 2023       \n",
      "+---------------------------------------------------------------------------------------+\n",
      "| NVIDIA-SMI 530.30.02              Driver Version: 530.30.02    CUDA Version: 12.1     |\n",
      "|-----------------------------------------+----------------------+----------------------+\n",
      "| GPU  Name                  Persistence-M| Bus-Id        Disp.A | Volatile Uncorr. ECC |\n",
      "| Fan  Temp  Perf            Pwr:Usage/Cap|         Memory-Usage | GPU-Util  Compute M. |\n",
      "|                                         |                      |               MIG M. |\n",
      "|=========================================+======================+======================|\n",
      "|   0  Tesla V100-PCIE-32GB            On | 00000000:3B:00.0 Off |                    0 |\n",
      "| N/A   34C    P0               26W / 250W|      4MiB / 32768MiB |      0%      Default |\n",
      "|                                         |                      |                  N/A |\n",
      "+-----------------------------------------+----------------------+----------------------+\n",
      "                                                                                         \n",
      "+---------------------------------------------------------------------------------------+\n",
      "| Processes:                                                                            |\n",
      "|  GPU   GI   CI        PID   Type   Process name                            GPU Memory |\n",
      "|        ID   ID                                                             Usage      |\n",
      "|=======================================================================================|\n",
      "|  No running processes found                                                           |\n",
      "+---------------------------------------------------------------------------------------+\n"
     ]
    }
   ],
   "source": [
    "import torch\n",
    "import torch.optim as optim\n",
    "import torch.nn as nn\n",
    "\n",
    "from torchvision import datasets, transforms, models\n",
    "from torchvision.datasets import DatasetFolder\n",
    "from torch.utils.data import DataLoader, ConcatDataset\n",
    "from torch.optim import lr_scheduler\n",
    "\n",
    "import matplotlib.pyplot as plt\n",
    "import numpy as np\n",
    "from PIL import Image\n",
    "from tqdm import tqdm\n",
    "\n",
    "device = torch.device('cuda' if torch.cuda.is_available() else \"cpu\")\n",
    "\n",
    "!nvidia-smi"
   ]
  },
  {
   "cell_type": "code",
   "execution_count": 2,
   "id": "bb1e2919-77c5-4ed4-be89-be30ee14bcf7",
   "metadata": {},
   "outputs": [],
   "source": [
    "train_transforms = transforms.Compose([\n",
    "                                      transforms.ToTensor(),\n",
    "                                      transforms.Normalize([0.485, 0.456, 0.406], [0.229, 0.224, 0.225])\n",
    "                                      ])\n",
    "valid_transforms = transforms.Compose([\n",
    "                                      transforms.ToTensor(),\n",
    "                                      transforms.Normalize([0.485, 0.456, 0.406], [0.229, 0.224, 0.225])\n",
    "                                      ])\n",
    "test_transforms = transforms.Compose([ \n",
    "                                      transforms.ToTensor(),\n",
    "                                      transforms.Normalize([0.485, 0.456, 0.406], [0.229, 0.224, 0.225])\n",
    "                                     ])"
   ]
  },
  {
   "cell_type": "code",
   "execution_count": 3,
   "id": "885dadc8-b699-43cf-af85-9a2d816dc08a",
   "metadata": {},
   "outputs": [],
   "source": [
    "train_set = DatasetFolder('train', loader=lambda x: Image.open(x), extensions=\"jpg\", transform = train_transforms)\n",
    "valid_set = DatasetFolder('valid', loader=lambda x: Image.open(x), extensions=\"jpg\", transform = valid_transforms)\n",
    "test_set = DatasetFolder('test', loader=lambda x: Image.open(x), extensions=\"jpg\", transform = test_transforms)\n",
    "\n",
    "train_loader = DataLoader(train_set, batch_size=256, shuffle=True, num_workers=2)\n",
    "valid_loader = DataLoader(valid_set, batch_size=256, shuffle=True, num_workers=2)\n",
    "test_loader = DataLoader(test_set, batch_size=256, shuffle=False, num_workers=2)"
   ]
  },
  {
   "cell_type": "code",
   "execution_count": 4,
   "id": "31d4a309",
   "metadata": {},
   "outputs": [],
   "source": [
    "def draw(title, xlabel, ylabel, x, train_loss, val_loss, filename):\n",
    "\n",
    "    plt.figure()\n",
    "    plt.title(title)\n",
    "    plt.xlabel(xlabel)\n",
    "    plt.ylabel(ylabel)\n",
    "    plt.plot(x, train_loss)\n",
    "    plt.plot(x, val_loss)\n",
    "\n",
    "    min_train_loss = min(train_loss)\n",
    "    min_val_loss = min(val_loss)\n",
    "    plt.legend(['train_loss (Best: {:.4f})'.format(min_train_loss),\n",
    "\n",
    "                'val_loss (Best: {:.4f})'.format(min_val_loss)], loc='upper left')\n",
    "    plt.savefig(filename)"
   ]
  },
  {
   "cell_type": "code",
   "execution_count": 6,
   "id": "7ec2485e",
   "metadata": {},
   "outputs": [],
   "source": [
    "import torch.nn as nn\n",
    "import torch\n",
    "import time\n",
    "import os\n",
    "from torch.utils.data import Dataset\n",
    "from pathlib import Path\n",
    "import copy\n",
    "from torch.autograd import Variable\n",
    "from torch.utils.data import DataLoader\n",
    "import torchvision.models as models\n",
    "import albumentations as Album\n",
    "from tqdm import tqdm\n",
    "import numpy as np\n",
    "import random"
   ]
  },
  {
   "attachments": {},
   "cell_type": "markdown",
   "id": "f856e7f6",
   "metadata": {},
   "source": [
    "Train"
   ]
  },
  {
   "cell_type": "code",
   "execution_count": 26,
   "id": "7c450686-bd95-4100-89fe-4eea5c466d46",
   "metadata": {},
   "outputs": [
    {
     "name": "stdout",
     "output_type": "stream",
     "text": [
      "==========\n",
      "Epoch: 1/30 --- < Starting Time : Sat Jun 17 21:47:34 2023 >\n",
      "------------------------------------------------------------\n"
     ]
    },
    {
     "name": "stderr",
     "output_type": "stream",
     "text": [
      "100%|██████████| 31/31 [00:24<00:00,  1.26it/s]\n"
     ]
    },
    {
     "name": "stdout",
     "output_type": "stream",
     "text": [
      "Training loss: 0.9400\taccuracy: 0.6487\n",
      "\n"
     ]
    },
    {
     "name": "stderr",
     "output_type": "stream",
     "text": [
      "100%|██████████| 8/8 [00:03<00:00,  2.30it/s]\n"
     ]
    },
    {
     "name": "stdout",
     "output_type": "stream",
     "text": [
      "Accuracy of     0 :  59.5142 %\n",
      "Accuracy of     1 :  90.4762 %\n",
      "Accuracy of     2 :  96.2882 %\n",
      "Accuracy of     3 :  73.5714 %\n",
      "Accuracy of     4 :  92.0228 %\n",
      "Accuracy of     5 :  93.9394 %\n",
      "\n",
      "Accuracy on the ALL test images: 84.9923 %\n",
      "val accuracy: 84.9923\n",
      "\n",
      "Epoch: 2/30 --- < Starting Time : Sat Jun 17 21:48:03 2023 >\n",
      "------------------------------------------------------------\n"
     ]
    },
    {
     "name": "stderr",
     "output_type": "stream",
     "text": [
      "100%|██████████| 31/31 [00:24<00:00,  1.26it/s]\n"
     ]
    },
    {
     "name": "stdout",
     "output_type": "stream",
     "text": [
      "Training loss: 0.1115\taccuracy: 0.9648\n",
      "\n"
     ]
    },
    {
     "name": "stderr",
     "output_type": "stream",
     "text": [
      "100%|██████████| 8/8 [00:03<00:00,  2.46it/s]\n"
     ]
    },
    {
     "name": "stdout",
     "output_type": "stream",
     "text": [
      "Accuracy of     0 :  94.7368 %\n",
      "Accuracy of     1 :  98.0159 %\n",
      "Accuracy of     2 :  84.2795 %\n",
      "Accuracy of     3 :  96.1905 %\n",
      "Accuracy of     4 :  95.4416 %\n",
      "Accuracy of     5 :  99.5671 %\n",
      "\n",
      "Accuracy on the ALL test images: 93.7213 %\n",
      "val accuracy: 93.7213\n",
      "\n",
      "Epoch: 3/30 --- < Starting Time : Sat Jun 17 21:48:31 2023 >\n",
      "------------------------------------------------------------\n"
     ]
    },
    {
     "name": "stderr",
     "output_type": "stream",
     "text": [
      "100%|██████████| 31/31 [00:24<00:00,  1.26it/s]\n"
     ]
    },
    {
     "name": "stdout",
     "output_type": "stream",
     "text": [
      "Training loss: 0.0219\taccuracy: 0.9958\n",
      "\n"
     ]
    },
    {
     "name": "stderr",
     "output_type": "stream",
     "text": [
      "100%|██████████| 8/8 [00:03<00:00,  2.44it/s]\n"
     ]
    },
    {
     "name": "stdout",
     "output_type": "stream",
     "text": [
      "Accuracy of     0 :  89.0688 %\n",
      "Accuracy of     1 :  98.4127 %\n",
      "Accuracy of     2 :  91.9214 %\n",
      "Accuracy of     3 :  99.5238 %\n",
      "Accuracy of     4 :  96.2963 %\n",
      "Accuracy of     5 :  98.2684 %\n",
      "\n",
      "Accuracy on the ALL test images: 95.5590 %\n",
      "val accuracy: 95.5590\n",
      "\n",
      "Epoch: 4/30 --- < Starting Time : Sat Jun 17 21:48:59 2023 >\n",
      "------------------------------------------------------------\n"
     ]
    },
    {
     "name": "stderr",
     "output_type": "stream",
     "text": [
      "100%|██████████| 31/31 [00:24<00:00,  1.26it/s]\n"
     ]
    },
    {
     "name": "stdout",
     "output_type": "stream",
     "text": [
      "Training loss: 0.0094\taccuracy: 0.9978\n",
      "\n"
     ]
    },
    {
     "name": "stderr",
     "output_type": "stream",
     "text": [
      "100%|██████████| 8/8 [00:03<00:00,  2.40it/s]\n"
     ]
    },
    {
     "name": "stdout",
     "output_type": "stream",
     "text": [
      "Accuracy of     0 :  98.3806 %\n",
      "Accuracy of     1 :  98.4127 %\n",
      "Accuracy of     2 :  98.2533 %\n",
      "Accuracy of     3 :  98.5714 %\n",
      "Accuracy of     4 :  99.4302 %\n",
      "Accuracy of     5 :  99.5671 %\n",
      "\n",
      "Accuracy on the ALL test images: 98.7238 %\n",
      "val accuracy: 98.7238\n",
      "\n",
      "Epoch: 5/30 --- < Starting Time : Sat Jun 17 21:49:28 2023 >\n",
      "------------------------------------------------------------\n"
     ]
    },
    {
     "name": "stderr",
     "output_type": "stream",
     "text": [
      "100%|██████████| 31/31 [00:24<00:00,  1.25it/s]\n"
     ]
    },
    {
     "name": "stdout",
     "output_type": "stream",
     "text": [
      "Training loss: 0.0030\taccuracy: 0.9997\n",
      "\n"
     ]
    },
    {
     "name": "stderr",
     "output_type": "stream",
     "text": [
      "100%|██████████| 8/8 [00:03<00:00,  2.38it/s]\n"
     ]
    },
    {
     "name": "stdout",
     "output_type": "stream",
     "text": [
      "Accuracy of     0 :  99.1903 %\n",
      "Accuracy of     1 :  98.8095 %\n",
      "Accuracy of     2 :  98.4716 %\n",
      "Accuracy of     3 :  98.5714 %\n",
      "Accuracy of     4 :  99.1453 %\n",
      "Accuracy of     5 :  99.5671 %\n",
      "\n",
      "Accuracy on the ALL test images: 98.8770 %\n",
      "val accuracy: 98.8770\n",
      "\n",
      "Epoch: 6/30 --- < Starting Time : Sat Jun 17 21:49:57 2023 >\n",
      "------------------------------------------------------------\n"
     ]
    },
    {
     "name": "stderr",
     "output_type": "stream",
     "text": [
      "100%|██████████| 31/31 [00:24<00:00,  1.25it/s]\n"
     ]
    },
    {
     "name": "stdout",
     "output_type": "stream",
     "text": [
      "Training loss: 0.0018\taccuracy: 0.9997\n",
      "\n"
     ]
    },
    {
     "name": "stderr",
     "output_type": "stream",
     "text": [
      "100%|██████████| 8/8 [00:03<00:00,  2.39it/s]\n"
     ]
    },
    {
     "name": "stdout",
     "output_type": "stream",
     "text": [
      "Accuracy of     0 :  99.1903 %\n",
      "Accuracy of     1 :  98.4127 %\n",
      "Accuracy of     2 :  98.4716 %\n",
      "Accuracy of     3 :  99.0476 %\n",
      "Accuracy of     4 :  99.4302 %\n",
      "Accuracy of     5 :  99.5671 %\n",
      "\n",
      "Accuracy on the ALL test images: 98.9791 %\n",
      "val accuracy: 98.9791\n",
      "\n",
      "Epoch: 7/30 --- < Starting Time : Sat Jun 17 21:50:26 2023 >\n",
      "------------------------------------------------------------\n"
     ]
    },
    {
     "name": "stderr",
     "output_type": "stream",
     "text": [
      "100%|██████████| 31/31 [00:24<00:00,  1.26it/s]\n"
     ]
    },
    {
     "name": "stdout",
     "output_type": "stream",
     "text": [
      "Training loss: 0.0010\taccuracy: 1.0000\n",
      "\n"
     ]
    },
    {
     "name": "stderr",
     "output_type": "stream",
     "text": [
      "100%|██████████| 8/8 [00:03<00:00,  2.40it/s]\n"
     ]
    },
    {
     "name": "stdout",
     "output_type": "stream",
     "text": [
      "Accuracy of     0 :  99.1903 %\n",
      "Accuracy of     1 :  98.8095 %\n",
      "Accuracy of     2 :  98.2533 %\n",
      "Accuracy of     3 :  98.5714 %\n",
      "Accuracy of     4 :  99.7151 %\n",
      "Accuracy of     5 :  99.5671 %\n",
      "\n",
      "Accuracy on the ALL test images: 98.9280 %\n",
      "val accuracy: 98.9280\n",
      "\n",
      "Epoch: 8/30 --- < Starting Time : Sat Jun 17 21:50:54 2023 >\n",
      "------------------------------------------------------------\n"
     ]
    },
    {
     "name": "stderr",
     "output_type": "stream",
     "text": [
      "100%|██████████| 31/31 [00:24<00:00,  1.24it/s]\n"
     ]
    },
    {
     "name": "stdout",
     "output_type": "stream",
     "text": [
      "Training loss: 0.0008\taccuracy: 1.0000\n",
      "\n"
     ]
    },
    {
     "name": "stderr",
     "output_type": "stream",
     "text": [
      "100%|██████████| 8/8 [00:03<00:00,  2.29it/s]\n"
     ]
    },
    {
     "name": "stdout",
     "output_type": "stream",
     "text": [
      "Accuracy of     0 :  99.1903 %\n",
      "Accuracy of     1 :  98.4127 %\n",
      "Accuracy of     2 :  98.4716 %\n",
      "Accuracy of     3 :  98.5714 %\n",
      "Accuracy of     4 :  99.4302 %\n",
      "Accuracy of     5 :  99.5671 %\n",
      "\n",
      "Accuracy on the ALL test images: 98.8770 %\n",
      "val accuracy: 98.8770\n",
      "\n",
      "Epoch: 9/30 --- < Starting Time : Sat Jun 17 21:51:22 2023 >\n",
      "------------------------------------------------------------\n"
     ]
    },
    {
     "name": "stderr",
     "output_type": "stream",
     "text": [
      "100%|██████████| 31/31 [00:25<00:00,  1.23it/s]\n"
     ]
    },
    {
     "name": "stdout",
     "output_type": "stream",
     "text": [
      "Training loss: 0.0008\taccuracy: 1.0000\n",
      "\n"
     ]
    },
    {
     "name": "stderr",
     "output_type": "stream",
     "text": [
      "100%|██████████| 8/8 [00:03<00:00,  2.35it/s]\n"
     ]
    },
    {
     "name": "stdout",
     "output_type": "stream",
     "text": [
      "Accuracy of     0 :  99.1903 %\n",
      "Accuracy of     1 :  98.4127 %\n",
      "Accuracy of     2 :  98.2533 %\n",
      "Accuracy of     3 :  98.5714 %\n",
      "Accuracy of     4 :  99.4302 %\n",
      "Accuracy of     5 :  99.5671 %\n",
      "\n",
      "Accuracy on the ALL test images: 98.8259 %\n",
      "val accuracy: 98.8259\n",
      "\n",
      "Epoch: 10/30 --- < Starting Time : Sat Jun 17 21:51:51 2023 >\n",
      "-------------------------------------------------------------\n"
     ]
    },
    {
     "name": "stderr",
     "output_type": "stream",
     "text": [
      "100%|██████████| 31/31 [00:24<00:00,  1.24it/s]\n"
     ]
    },
    {
     "name": "stdout",
     "output_type": "stream",
     "text": [
      "Training loss: 0.0008\taccuracy: 1.0000\n",
      "\n"
     ]
    },
    {
     "name": "stderr",
     "output_type": "stream",
     "text": [
      "100%|██████████| 8/8 [00:03<00:00,  2.36it/s]\n"
     ]
    },
    {
     "name": "stdout",
     "output_type": "stream",
     "text": [
      "Accuracy of     0 :  99.1903 %\n",
      "Accuracy of     1 :  98.4127 %\n",
      "Accuracy of     2 :  98.9083 %\n",
      "Accuracy of     3 :  98.5714 %\n",
      "Accuracy of     4 :  99.1453 %\n",
      "Accuracy of     5 :  99.5671 %\n",
      "\n",
      "Accuracy on the ALL test images: 98.9280 %\n",
      "val accuracy: 98.9280\n",
      "\n",
      "Epoch: 11/30 --- < Starting Time : Sat Jun 17 21:52:19 2023 >\n",
      "-------------------------------------------------------------\n"
     ]
    },
    {
     "name": "stderr",
     "output_type": "stream",
     "text": [
      "100%|██████████| 31/31 [00:25<00:00,  1.24it/s]\n"
     ]
    },
    {
     "name": "stdout",
     "output_type": "stream",
     "text": [
      "Training loss: 0.0008\taccuracy: 1.0000\n",
      "\n"
     ]
    },
    {
     "name": "stderr",
     "output_type": "stream",
     "text": [
      "100%|██████████| 8/8 [00:03<00:00,  2.40it/s]\n"
     ]
    },
    {
     "name": "stdout",
     "output_type": "stream",
     "text": [
      "Accuracy of     0 :  99.1903 %\n",
      "Accuracy of     1 :  98.4127 %\n",
      "Accuracy of     2 :  98.4716 %\n",
      "Accuracy of     3 :  98.5714 %\n",
      "Accuracy of     4 :  99.4302 %\n",
      "Accuracy of     5 :  99.5671 %\n",
      "\n",
      "Accuracy on the ALL test images: 98.8770 %\n",
      "val accuracy: 98.8770\n",
      "\n",
      "Epoch: 12/30 --- < Starting Time : Sat Jun 17 21:52:48 2023 >\n",
      "-------------------------------------------------------------\n"
     ]
    },
    {
     "name": "stderr",
     "output_type": "stream",
     "text": [
      "100%|██████████| 31/31 [00:24<00:00,  1.24it/s]\n"
     ]
    },
    {
     "name": "stdout",
     "output_type": "stream",
     "text": [
      "Training loss: 0.0008\taccuracy: 1.0000\n",
      "\n"
     ]
    },
    {
     "name": "stderr",
     "output_type": "stream",
     "text": [
      "100%|██████████| 8/8 [00:03<00:00,  2.39it/s]\n"
     ]
    },
    {
     "name": "stdout",
     "output_type": "stream",
     "text": [
      "Accuracy of     0 :  99.1903 %\n",
      "Accuracy of     1 :  98.4127 %\n",
      "Accuracy of     2 :  98.4716 %\n",
      "Accuracy of     3 :  98.5714 %\n",
      "Accuracy of     4 :  99.4302 %\n",
      "Accuracy of     5 :  99.5671 %\n",
      "\n",
      "Accuracy on the ALL test images: 98.8770 %\n",
      "val accuracy: 98.8770\n",
      "\n",
      "Epoch: 13/30 --- < Starting Time : Sat Jun 17 21:53:16 2023 >\n",
      "-------------------------------------------------------------\n"
     ]
    },
    {
     "name": "stderr",
     "output_type": "stream",
     "text": [
      "100%|██████████| 31/31 [00:24<00:00,  1.25it/s]\n"
     ]
    },
    {
     "name": "stdout",
     "output_type": "stream",
     "text": [
      "Training loss: 0.0009\taccuracy: 1.0000\n",
      "\n"
     ]
    },
    {
     "name": "stderr",
     "output_type": "stream",
     "text": [
      "100%|██████████| 8/8 [00:03<00:00,  2.36it/s]\n"
     ]
    },
    {
     "name": "stdout",
     "output_type": "stream",
     "text": [
      "Accuracy of     0 :  99.1903 %\n",
      "Accuracy of     1 :  98.4127 %\n",
      "Accuracy of     2 :  98.4716 %\n",
      "Accuracy of     3 :  99.0476 %\n",
      "Accuracy of     4 :  99.1453 %\n",
      "Accuracy of     5 :  99.5671 %\n",
      "\n",
      "Accuracy on the ALL test images: 98.9280 %\n",
      "val accuracy: 98.9280\n",
      "\n",
      "Epoch: 14/30 --- < Starting Time : Sat Jun 17 21:53:44 2023 >\n",
      "-------------------------------------------------------------\n"
     ]
    },
    {
     "name": "stderr",
     "output_type": "stream",
     "text": [
      "100%|██████████| 31/31 [00:25<00:00,  1.24it/s]\n"
     ]
    },
    {
     "name": "stdout",
     "output_type": "stream",
     "text": [
      "Training loss: 0.0009\taccuracy: 1.0000\n",
      "\n"
     ]
    },
    {
     "name": "stderr",
     "output_type": "stream",
     "text": [
      "100%|██████████| 8/8 [00:03<00:00,  2.37it/s]\n"
     ]
    },
    {
     "name": "stdout",
     "output_type": "stream",
     "text": [
      "Accuracy of     0 :  99.1903 %\n",
      "Accuracy of     1 :  98.4127 %\n",
      "Accuracy of     2 :  98.6900 %\n",
      "Accuracy of     3 :  98.8095 %\n",
      "Accuracy of     4 :  99.4302 %\n",
      "Accuracy of     5 :  99.5671 %\n",
      "\n",
      "Accuracy on the ALL test images: 98.9791 %\n",
      "val accuracy: 98.9791\n",
      "\n",
      "Epoch: 15/30 --- < Starting Time : Sat Jun 17 21:54:14 2023 >\n",
      "-------------------------------------------------------------\n"
     ]
    },
    {
     "name": "stderr",
     "output_type": "stream",
     "text": [
      "100%|██████████| 31/31 [00:24<00:00,  1.24it/s]\n"
     ]
    },
    {
     "name": "stdout",
     "output_type": "stream",
     "text": [
      "Training loss: 0.0008\taccuracy: 1.0000\n",
      "\n"
     ]
    },
    {
     "name": "stderr",
     "output_type": "stream",
     "text": [
      "100%|██████████| 8/8 [00:03<00:00,  2.40it/s]\n"
     ]
    },
    {
     "name": "stdout",
     "output_type": "stream",
     "text": [
      "Accuracy of     0 :  99.1903 %\n",
      "Accuracy of     1 :  98.4127 %\n",
      "Accuracy of     2 :  98.6900 %\n",
      "Accuracy of     3 :  98.5714 %\n",
      "Accuracy of     4 :  99.4302 %\n",
      "Accuracy of     5 :  99.5671 %\n",
      "\n",
      "Accuracy on the ALL test images: 98.9280 %\n",
      "val accuracy: 98.9280\n",
      "\n",
      "Epoch: 16/30 --- < Starting Time : Sat Jun 17 21:54:42 2023 >\n",
      "-------------------------------------------------------------\n"
     ]
    },
    {
     "name": "stderr",
     "output_type": "stream",
     "text": [
      "100%|██████████| 31/31 [00:24<00:00,  1.24it/s]\n"
     ]
    },
    {
     "name": "stdout",
     "output_type": "stream",
     "text": [
      "Training loss: 0.0008\taccuracy: 1.0000\n",
      "\n"
     ]
    },
    {
     "name": "stderr",
     "output_type": "stream",
     "text": [
      "100%|██████████| 8/8 [00:03<00:00,  2.37it/s]\n"
     ]
    },
    {
     "name": "stdout",
     "output_type": "stream",
     "text": [
      "Accuracy of     0 :  99.1903 %\n",
      "Accuracy of     1 :  98.4127 %\n",
      "Accuracy of     2 :  98.6900 %\n",
      "Accuracy of     3 :  98.8095 %\n",
      "Accuracy of     4 :  99.1453 %\n",
      "Accuracy of     5 :  99.5671 %\n",
      "\n",
      "Accuracy on the ALL test images: 98.9280 %\n",
      "val accuracy: 98.9280\n",
      "\n",
      "Epoch: 17/30 --- < Starting Time : Sat Jun 17 21:55:10 2023 >\n",
      "-------------------------------------------------------------\n"
     ]
    },
    {
     "name": "stderr",
     "output_type": "stream",
     "text": [
      "100%|██████████| 31/31 [00:24<00:00,  1.24it/s]\n"
     ]
    },
    {
     "name": "stdout",
     "output_type": "stream",
     "text": [
      "Training loss: 0.0008\taccuracy: 1.0000\n",
      "\n"
     ]
    },
    {
     "name": "stderr",
     "output_type": "stream",
     "text": [
      "100%|██████████| 8/8 [00:03<00:00,  2.31it/s]\n"
     ]
    },
    {
     "name": "stdout",
     "output_type": "stream",
     "text": [
      "Accuracy of     0 :  99.1903 %\n",
      "Accuracy of     1 :  98.4127 %\n",
      "Accuracy of     2 :  98.4716 %\n",
      "Accuracy of     3 :  98.5714 %\n",
      "Accuracy of     4 :  99.4302 %\n",
      "Accuracy of     5 :  99.5671 %\n",
      "\n",
      "Accuracy on the ALL test images: 98.8770 %\n",
      "val accuracy: 98.8770\n",
      "\n",
      "Epoch: 18/30 --- < Starting Time : Sat Jun 17 21:55:39 2023 >\n",
      "-------------------------------------------------------------\n"
     ]
    },
    {
     "name": "stderr",
     "output_type": "stream",
     "text": [
      "100%|██████████| 31/31 [00:24<00:00,  1.24it/s]\n"
     ]
    },
    {
     "name": "stdout",
     "output_type": "stream",
     "text": [
      "Training loss: 0.0009\taccuracy: 1.0000\n",
      "\n"
     ]
    },
    {
     "name": "stderr",
     "output_type": "stream",
     "text": [
      "100%|██████████| 8/8 [00:03<00:00,  2.40it/s]\n"
     ]
    },
    {
     "name": "stdout",
     "output_type": "stream",
     "text": [
      "Accuracy of     0 :  99.1903 %\n",
      "Accuracy of     1 :  98.4127 %\n",
      "Accuracy of     2 :  98.6900 %\n",
      "Accuracy of     3 :  98.5714 %\n",
      "Accuracy of     4 :  99.1453 %\n",
      "Accuracy of     5 :  99.5671 %\n",
      "\n",
      "Accuracy on the ALL test images: 98.8770 %\n",
      "val accuracy: 98.8770\n",
      "\n",
      "Epoch: 19/30 --- < Starting Time : Sat Jun 17 21:56:07 2023 >\n",
      "-------------------------------------------------------------\n"
     ]
    },
    {
     "name": "stderr",
     "output_type": "stream",
     "text": [
      "100%|██████████| 31/31 [00:24<00:00,  1.24it/s]\n"
     ]
    },
    {
     "name": "stdout",
     "output_type": "stream",
     "text": [
      "Training loss: 0.0008\taccuracy: 1.0000\n",
      "\n"
     ]
    },
    {
     "name": "stderr",
     "output_type": "stream",
     "text": [
      "100%|██████████| 8/8 [00:03<00:00,  2.35it/s]\n"
     ]
    },
    {
     "name": "stdout",
     "output_type": "stream",
     "text": [
      "Accuracy of     0 :  99.1903 %\n",
      "Accuracy of     1 :  98.4127 %\n",
      "Accuracy of     2 :  98.4716 %\n",
      "Accuracy of     3 :  98.8095 %\n",
      "Accuracy of     4 :  99.4302 %\n",
      "Accuracy of     5 :  99.5671 %\n",
      "\n",
      "Accuracy on the ALL test images: 98.9280 %\n",
      "val accuracy: 98.9280\n",
      "\n",
      "Epoch: 20/30 --- < Starting Time : Sat Jun 17 21:56:36 2023 >\n",
      "-------------------------------------------------------------\n"
     ]
    },
    {
     "name": "stderr",
     "output_type": "stream",
     "text": [
      "100%|██████████| 31/31 [00:25<00:00,  1.24it/s]\n"
     ]
    },
    {
     "name": "stdout",
     "output_type": "stream",
     "text": [
      "Training loss: 0.0009\taccuracy: 1.0000\n",
      "\n"
     ]
    },
    {
     "name": "stderr",
     "output_type": "stream",
     "text": [
      "100%|██████████| 8/8 [00:03<00:00,  2.41it/s]\n"
     ]
    },
    {
     "name": "stdout",
     "output_type": "stream",
     "text": [
      "Accuracy of     0 :  99.1903 %\n",
      "Accuracy of     1 :  98.4127 %\n",
      "Accuracy of     2 :  98.4716 %\n",
      "Accuracy of     3 :  98.5714 %\n",
      "Accuracy of     4 :  99.4302 %\n",
      "Accuracy of     5 :  99.5671 %\n",
      "\n",
      "Accuracy on the ALL test images: 98.8770 %\n",
      "val accuracy: 98.8770\n",
      "\n",
      "Epoch: 21/30 --- < Starting Time : Sat Jun 17 21:57:04 2023 >\n",
      "-------------------------------------------------------------\n"
     ]
    },
    {
     "name": "stderr",
     "output_type": "stream",
     "text": [
      "100%|██████████| 31/31 [00:25<00:00,  1.23it/s]\n"
     ]
    },
    {
     "name": "stdout",
     "output_type": "stream",
     "text": [
      "Training loss: 0.0009\taccuracy: 1.0000\n",
      "\n"
     ]
    },
    {
     "name": "stderr",
     "output_type": "stream",
     "text": [
      "100%|██████████| 8/8 [00:03<00:00,  2.38it/s]\n"
     ]
    },
    {
     "name": "stdout",
     "output_type": "stream",
     "text": [
      "Accuracy of     0 :  99.1903 %\n",
      "Accuracy of     1 :  98.4127 %\n",
      "Accuracy of     2 :  98.4716 %\n",
      "Accuracy of     3 :  98.5714 %\n",
      "Accuracy of     4 :  99.4302 %\n",
      "Accuracy of     5 :  99.5671 %\n",
      "\n",
      "Accuracy on the ALL test images: 98.8770 %\n",
      "val accuracy: 98.8770\n",
      "\n",
      "Epoch: 22/30 --- < Starting Time : Sat Jun 17 21:57:33 2023 >\n",
      "-------------------------------------------------------------\n"
     ]
    },
    {
     "name": "stderr",
     "output_type": "stream",
     "text": [
      "100%|██████████| 31/31 [00:25<00:00,  1.24it/s]\n"
     ]
    },
    {
     "name": "stdout",
     "output_type": "stream",
     "text": [
      "Training loss: 0.0008\taccuracy: 1.0000\n",
      "\n"
     ]
    },
    {
     "name": "stderr",
     "output_type": "stream",
     "text": [
      "100%|██████████| 8/8 [00:03<00:00,  2.31it/s]\n"
     ]
    },
    {
     "name": "stdout",
     "output_type": "stream",
     "text": [
      "Accuracy of     0 :  99.1903 %\n",
      "Accuracy of     1 :  98.4127 %\n",
      "Accuracy of     2 :  98.6900 %\n",
      "Accuracy of     3 :  98.8095 %\n",
      "Accuracy of     4 :  99.4302 %\n",
      "Accuracy of     5 :  99.5671 %\n",
      "\n",
      "Accuracy on the ALL test images: 98.9791 %\n",
      "val accuracy: 98.9791\n",
      "\n",
      "Epoch: 23/30 --- < Starting Time : Sat Jun 17 21:58:02 2023 >\n",
      "-------------------------------------------------------------\n"
     ]
    },
    {
     "name": "stderr",
     "output_type": "stream",
     "text": [
      "100%|██████████| 31/31 [00:24<00:00,  1.24it/s]\n"
     ]
    },
    {
     "name": "stdout",
     "output_type": "stream",
     "text": [
      "Training loss: 0.0008\taccuracy: 1.0000\n",
      "\n"
     ]
    },
    {
     "name": "stderr",
     "output_type": "stream",
     "text": [
      "100%|██████████| 8/8 [00:03<00:00,  2.38it/s]\n"
     ]
    },
    {
     "name": "stdout",
     "output_type": "stream",
     "text": [
      "Accuracy of     0 :  99.1903 %\n",
      "Accuracy of     1 :  98.4127 %\n",
      "Accuracy of     2 :  98.4716 %\n",
      "Accuracy of     3 :  98.5714 %\n",
      "Accuracy of     4 :  99.4302 %\n",
      "Accuracy of     5 :  99.5671 %\n",
      "\n",
      "Accuracy on the ALL test images: 98.8770 %\n",
      "val accuracy: 98.8770\n",
      "\n",
      "Epoch: 24/30 --- < Starting Time : Sat Jun 17 21:58:30 2023 >\n",
      "-------------------------------------------------------------\n"
     ]
    },
    {
     "name": "stderr",
     "output_type": "stream",
     "text": [
      "100%|██████████| 31/31 [00:24<00:00,  1.24it/s]\n"
     ]
    },
    {
     "name": "stdout",
     "output_type": "stream",
     "text": [
      "Training loss: 0.0008\taccuracy: 1.0000\n",
      "\n"
     ]
    },
    {
     "name": "stderr",
     "output_type": "stream",
     "text": [
      "100%|██████████| 8/8 [00:03<00:00,  2.43it/s]\n"
     ]
    },
    {
     "name": "stdout",
     "output_type": "stream",
     "text": [
      "Accuracy of     0 :  99.1903 %\n",
      "Accuracy of     1 :  98.4127 %\n",
      "Accuracy of     2 :  98.9083 %\n",
      "Accuracy of     3 :  98.5714 %\n",
      "Accuracy of     4 :  99.4302 %\n",
      "Accuracy of     5 :  99.5671 %\n",
      "\n",
      "Accuracy on the ALL test images: 98.9791 %\n",
      "val accuracy: 98.9791\n",
      "\n",
      "Epoch: 25/30 --- < Starting Time : Sat Jun 17 21:58:59 2023 >\n",
      "-------------------------------------------------------------\n"
     ]
    },
    {
     "name": "stderr",
     "output_type": "stream",
     "text": [
      "100%|██████████| 31/31 [00:24<00:00,  1.25it/s]\n"
     ]
    },
    {
     "name": "stdout",
     "output_type": "stream",
     "text": [
      "Training loss: 0.0009\taccuracy: 1.0000\n",
      "\n"
     ]
    },
    {
     "name": "stderr",
     "output_type": "stream",
     "text": [
      "100%|██████████| 8/8 [00:03<00:00,  2.41it/s]\n"
     ]
    },
    {
     "name": "stdout",
     "output_type": "stream",
     "text": [
      "Accuracy of     0 :  99.1903 %\n",
      "Accuracy of     1 :  98.4127 %\n",
      "Accuracy of     2 :  98.9083 %\n",
      "Accuracy of     3 :  98.5714 %\n",
      "Accuracy of     4 :  99.4302 %\n",
      "Accuracy of     5 :  99.5671 %\n",
      "\n",
      "Accuracy on the ALL test images: 98.9791 %\n",
      "val accuracy: 98.9791\n",
      "\n",
      "Epoch: 26/30 --- < Starting Time : Sat Jun 17 21:59:28 2023 >\n",
      "-------------------------------------------------------------\n"
     ]
    },
    {
     "name": "stderr",
     "output_type": "stream",
     "text": [
      "100%|██████████| 31/31 [00:25<00:00,  1.24it/s]\n"
     ]
    },
    {
     "name": "stdout",
     "output_type": "stream",
     "text": [
      "Training loss: 0.0008\taccuracy: 1.0000\n",
      "\n"
     ]
    },
    {
     "name": "stderr",
     "output_type": "stream",
     "text": [
      "100%|██████████| 8/8 [00:03<00:00,  2.42it/s]\n"
     ]
    },
    {
     "name": "stdout",
     "output_type": "stream",
     "text": [
      "Accuracy of     0 :  99.1903 %\n",
      "Accuracy of     1 :  98.4127 %\n",
      "Accuracy of     2 :  98.6900 %\n",
      "Accuracy of     3 :  98.8095 %\n",
      "Accuracy of     4 :  99.4302 %\n",
      "Accuracy of     5 :  99.5671 %\n",
      "\n",
      "Accuracy on the ALL test images: 98.9791 %\n",
      "val accuracy: 98.9791\n",
      "\n",
      "Epoch: 27/30 --- < Starting Time : Sat Jun 17 21:59:57 2023 >\n",
      "-------------------------------------------------------------\n"
     ]
    },
    {
     "name": "stderr",
     "output_type": "stream",
     "text": [
      "100%|██████████| 31/31 [00:24<00:00,  1.24it/s]\n"
     ]
    },
    {
     "name": "stdout",
     "output_type": "stream",
     "text": [
      "Training loss: 0.0008\taccuracy: 1.0000\n",
      "\n"
     ]
    },
    {
     "name": "stderr",
     "output_type": "stream",
     "text": [
      "100%|██████████| 8/8 [00:03<00:00,  2.38it/s]\n"
     ]
    },
    {
     "name": "stdout",
     "output_type": "stream",
     "text": [
      "Accuracy of     0 :  99.1903 %\n",
      "Accuracy of     1 :  98.4127 %\n",
      "Accuracy of     2 :  98.2533 %\n",
      "Accuracy of     3 :  98.5714 %\n",
      "Accuracy of     4 :  99.4302 %\n",
      "Accuracy of     5 :  99.5671 %\n",
      "\n",
      "Accuracy on the ALL test images: 98.8259 %\n",
      "val accuracy: 98.8259\n",
      "\n",
      "Epoch: 28/30 --- < Starting Time : Sat Jun 17 22:00:25 2023 >\n",
      "-------------------------------------------------------------\n"
     ]
    },
    {
     "name": "stderr",
     "output_type": "stream",
     "text": [
      "100%|██████████| 31/31 [00:24<00:00,  1.24it/s]\n"
     ]
    },
    {
     "name": "stdout",
     "output_type": "stream",
     "text": [
      "Training loss: 0.0008\taccuracy: 1.0000\n",
      "\n"
     ]
    },
    {
     "name": "stderr",
     "output_type": "stream",
     "text": [
      "100%|██████████| 8/8 [00:03<00:00,  2.35it/s]\n"
     ]
    },
    {
     "name": "stdout",
     "output_type": "stream",
     "text": [
      "Accuracy of     0 :  99.1903 %\n",
      "Accuracy of     1 :  98.4127 %\n",
      "Accuracy of     2 :  98.6900 %\n",
      "Accuracy of     3 :  98.8095 %\n",
      "Accuracy of     4 :  99.1453 %\n",
      "Accuracy of     5 :  99.5671 %\n",
      "\n",
      "Accuracy on the ALL test images: 98.9280 %\n",
      "val accuracy: 98.9280\n",
      "\n",
      "Epoch: 29/30 --- < Starting Time : Sat Jun 17 22:00:54 2023 >\n",
      "-------------------------------------------------------------\n"
     ]
    },
    {
     "name": "stderr",
     "output_type": "stream",
     "text": [
      "100%|██████████| 31/31 [00:24<00:00,  1.24it/s]\n"
     ]
    },
    {
     "name": "stdout",
     "output_type": "stream",
     "text": [
      "Training loss: 0.0008\taccuracy: 1.0000\n",
      "\n"
     ]
    },
    {
     "name": "stderr",
     "output_type": "stream",
     "text": [
      "100%|██████████| 8/8 [00:03<00:00,  2.29it/s]\n"
     ]
    },
    {
     "name": "stdout",
     "output_type": "stream",
     "text": [
      "Accuracy of     0 :  99.1903 %\n",
      "Accuracy of     1 :  98.4127 %\n",
      "Accuracy of     2 :  98.4716 %\n",
      "Accuracy of     3 :  99.0476 %\n",
      "Accuracy of     4 :  99.1453 %\n",
      "Accuracy of     5 :  99.5671 %\n",
      "\n",
      "Accuracy on the ALL test images: 98.9280 %\n",
      "val accuracy: 98.9280\n",
      "\n",
      "Epoch: 30/30 --- < Starting Time : Sat Jun 17 22:01:22 2023 >\n",
      "-------------------------------------------------------------\n"
     ]
    },
    {
     "name": "stderr",
     "output_type": "stream",
     "text": [
      "100%|██████████| 31/31 [00:24<00:00,  1.24it/s]\n"
     ]
    },
    {
     "name": "stdout",
     "output_type": "stream",
     "text": [
      "Training loss: 0.0009\taccuracy: 1.0000\n",
      "\n"
     ]
    },
    {
     "name": "stderr",
     "output_type": "stream",
     "text": [
      "100%|██████████| 8/8 [00:03<00:00,  2.38it/s]\n"
     ]
    },
    {
     "name": "stdout",
     "output_type": "stream",
     "text": [
      "Accuracy of     0 :  99.1903 %\n",
      "Accuracy of     1 :  98.4127 %\n",
      "Accuracy of     2 :  98.4716 %\n",
      "Accuracy of     3 :  99.0476 %\n",
      "Accuracy of     4 :  99.4302 %\n",
      "Accuracy of     5 :  99.5671 %\n",
      "\n",
      "Accuracy on the ALL test images: 98.9791 %\n",
      "val accuracy: 98.9791\n",
      "\n",
      "Number of parameter: 23.52M\n",
      "Best model name : ./pth/seq-resnet50-model-1.00-best_train_acc.pth\n"
     ]
    },
    {
     "data": {
      "image/png": "[encoded data removed]",
      "text/plain": [
       "<Figure size 432x288 with 1 Axes>"
      ]
     },
     "metadata": {
      "needs_background": "light"
     },
     "output_type": "display_data"
    }
   ],
   "source": [
    "# os.environ['CUDA_VISIBLE_DEVICES']='1'\n",
    "device = torch.device('cuda',0)\n",
    "init_lr = 0.01\n",
    "\n",
    "def adjust_lr(optimizer, epoch):\n",
    "    # 1/10 learning rate every 5 epochs\n",
    "    lr = init_lr * (0.001 ** (epoch // 7))\n",
    "    for param_group in optimizer.param_groups:\n",
    "        param_group['lr'] = lr\n",
    "\n",
    "def train():\n",
    "    bestvalacc=0\n",
    "    \n",
    "    train_loss = []\n",
    "    valL_loss = []\n",
    "        \n",
    "    model=models.resnet50(pretrained=True)\n",
    "    model.fc=nn.Linear(in_features=2048, out_features=6, bias=True)\n",
    "    #print(model)\n",
    "    classes = [\"0\",\"1\",'2','3','4','5']\n",
    "    classes.sort()\n",
    "    classes.sort(key = len)\n",
    "    print(\"==========\")\n",
    "    # model = torch.nn.DataParallel(model, device_ids=device_ids)\n",
    "    model = model.cuda(device=device)\n",
    "\n",
    "    model.train()\n",
    "\n",
    "    best_model_params = copy.deepcopy(model.state_dict())\n",
    "    best_acc = 0.0\n",
    "    \n",
    "    best_val_model_params = copy.deepcopy(model.state_dict())\n",
    "    best_val_acc = 0.0\n",
    "    \n",
    "    # Training epochs\n",
    "    num_epochs = 30 #20改3\n",
    "    criterion = nn.CrossEntropyLoss()\n",
    "    x=[]\n",
    "    # Optimizer setting\n",
    "    optimizer = torch.optim.SGD(params=model.parameters(), lr=init_lr, momentum=0.9)\n",
    "\n",
    "    # Log \n",
    "    with open('TrainingAccuracy.txt','w') as fAcc:\n",
    "        print('Accuracy\\n', file = fAcc)\n",
    "    with open('TrainingLoss.txt','w') as fLoss:\n",
    "        print('Loss\\n', file = fLoss)\n",
    "\n",
    "    for epoch in range(num_epochs):\n",
    "        x.append(epoch+1)\n",
    "        model.train()\n",
    "        localtime = time.asctime( time.localtime(time.time()) )\n",
    "        print('Epoch: {}/{} --- < Starting Time : {} >'.format(epoch + 1,num_epochs,localtime))\n",
    "        print('-' * len('Epoch: {}/{} --- < Starting Time : {} >'.format(epoch + 1,num_epochs,localtime)))\n",
    "\n",
    "        training_loss = 0.0\n",
    "        training_corrects = 0\n",
    "        adjust_lr(optimizer, epoch)\n",
    "\n",
    "        for i, (inputs, labels) in enumerate(tqdm(train_loader)):\n",
    "\n",
    "            inputs = Variable(inputs.cuda(device=device))\n",
    "            labels = Variable(labels.cuda(device=device))\n",
    "            \n",
    "            optimizer.zero_grad()\n",
    "\n",
    "            outputs = model(inputs)\n",
    "            \n",
    "            _, preds = torch.max(outputs.data, 1)\n",
    "\n",
    "            loss = criterion(outputs, labels)\n",
    "\n",
    "            loss.backward()\n",
    "            optimizer.step()\n",
    "\n",
    "            training_loss += float(loss.item() * inputs.size(0))\n",
    "            training_corrects += torch.sum(preds == labels.data)\n",
    "            \n",
    "        training_loss = training_loss / len(train_set)\n",
    "\n",
    "        training_acc = training_corrects.double() /len(train_set)\n",
    "        train_loss.append(training_loss)\n",
    "        print('Training loss: {:.4f}\\taccuracy: {:.4f}\\n'.format(training_loss,training_acc))\n",
    "\n",
    "        # Check best accuracy model ( but not the best on test )\n",
    "        if training_acc > best_acc:\n",
    "            best_acc = training_acc\n",
    "            best_model_params = copy.deepcopy(model.state_dict())\n",
    "\n",
    "\n",
    "        with open('TrainingAccuracy.txt','a') as fAcc:\n",
    "            print('{:.4f} '.format(training_acc), file = fAcc)\n",
    "        with open('TrainingLoss.txt','a') as fLoss:\n",
    "            print('{:.4f} '.format(training_loss), file = fLoss)\n",
    "\n",
    "        model = model.cuda(device=device)\n",
    "        model.eval()\n",
    "        total_correct = 0\n",
    "        total = 0\n",
    "        class_correct = list(0. for i in enumerate(classes))\n",
    "        class_total = list(0. for i in enumerate(classes))\n",
    "\n",
    "        with torch.no_grad():\n",
    "            val_loss=0.0\n",
    "            for inputs, labels in tqdm(valid_loader):\n",
    "                inputs = Variable(inputs.cuda(device=device))\n",
    "                labels = Variable(labels.cuda(device=device))\n",
    "\n",
    "                outputs = model(inputs)\n",
    "                \n",
    "                loss = criterion(outputs, labels) \n",
    "                # print(loss.item())     \n",
    "                val_loss += float(loss.item() * inputs.size(0))\n",
    "                \n",
    "                \n",
    "                _, predicted = torch.max(outputs.data, 1)\n",
    "                \n",
    "                # totoal\n",
    "                total += labels.size(0)\n",
    "                total_correct += (predicted == labels).sum().item()\n",
    "                c = (predicted == labels).squeeze()\n",
    "                \n",
    "                # batch size\n",
    "                for i in range(labels.size(0)):\n",
    "                    label = labels[i]\n",
    "                    class_correct[label] += c[i].item()\n",
    "                    class_total[label] += 1\n",
    "\n",
    "            for i, c in enumerate(classes):\n",
    "                print('Accuracy of %5s : %8.4f %%' % (\n",
    "                c, 100 * class_correct[i] / class_total[i]))\n",
    "\n",
    "            # Accuracy\n",
    "            print('\\nAccuracy on the ALL test images: %.4f %%'\n",
    "              % (100 * total_correct / total))\n",
    "            val_acc = 100 * total_correct / total\n",
    "        print('val accuracy: {:.4f}\\n'.format(val_acc))\n",
    "        val_loss = val_loss / len(valid_set)\n",
    "        valL_loss.append(val_loss)\n",
    "        if val_acc >= best_val_acc:\n",
    "            best_val_acc = val_acc\n",
    "            best_val_model_params = copy.deepcopy(model.state_dict())\n",
    "            torch.save(model, './pth/seq-resnet50-model-{:.2f}-best_val_acc.pth'.format(val_acc))\n",
    "    total = sum([param.nelement() for param in model.parameters()])\n",
    "    print(\"Number of parameter: %.2fM\" % (total/1e6))\n",
    "    # Save best training/valid accuracy model ( not the best on test )\n",
    "    model.load_state_dict(best_model_params)\n",
    "    best_model_name = './pth/seq-resnet50-model-{:.2f}-best_train_acc.pth'.format(best_acc)\n",
    "    torch.save(model, best_model_name)\n",
    "    print(\"Best model name : \" + best_model_name)\n",
    "    draw('Training Loss Curve', 'epoch', 'loss', x, train_loss, valL_loss, 'Training Loss Curve.png')\n",
    "if __name__ == '__main__':\n",
    "    train()"
   ]
  },
  {
   "attachments": {},
   "cell_type": "markdown",
   "id": "5c6cab1c",
   "metadata": {},
   "source": [
    "Validation"
   ]
  },
  {
   "cell_type": "code",
   "execution_count": 85,
   "id": "91441563",
   "metadata": {},
   "outputs": [
    {
     "name": "stderr",
     "output_type": "stream",
     "text": [
      "100%|██████████| 10/10 [00:03<00:00,  2.72it/s]"
     ]
    },
    {
     "name": "stdout",
     "output_type": "stream",
     "text": [
      "Accuracy of     0 :  99.6774 %\n",
      "Accuracy of     1 :  99.3631 %\n",
      "Accuracy of     2 :  98.9455 %\n",
      "Accuracy of     3 :  99.8099 %\n",
      "Accuracy of     4 :  99.7727 %\n",
      "Accuracy of     5 :  99.6540 %\n",
      "\n",
      "Accuracy on the ALL test images: 99.5098 %\n"
     ]
    },
    {
     "name": "stderr",
     "output_type": "stream",
     "text": [
      "\n"
     ]
    }
   ],
   "source": [
    "PATH_TO_WEIGHTS = './pth/seq-resnet50-model-1.00-best_train_acc.pth'\n",
    "\n",
    "def test(loader):\n",
    "    allpredicted=[]\n",
    "    totallabel=[]\n",
    "    answers=[]\n",
    "    classes = [\"0\",\"1\",\"2\",\"3\",\"4\",\"5\"]\n",
    "    classes.sort()\n",
    "\n",
    "    # Load model\n",
    "    model = torch.load(PATH_TO_WEIGHTS)\n",
    "\n",
    "    model.eval()\n",
    "\n",
    "    total_correct = 0\n",
    "    total_false = 0\n",
    "    total = 0\n",
    "    class_correct = list(0. for i in enumerate(classes))\n",
    "    class_total = list(0. for i in enumerate(classes))\n",
    "\n",
    "    with torch.no_grad():\n",
    "        for inputs, labels in tqdm(loader):\n",
    "            inputs = Variable(inputs.cuda(device=device))\n",
    "            labels = Variable(labels.cuda(device=device))\n",
    "            \n",
    "            outputs = model(inputs)\n",
    "\n",
    "            _, predicted = torch.max(outputs.data, 1)\n",
    "            \n",
    "            softmax = torch.nn.Softmax(dim=1)#dim=1\n",
    "            ans = softmax(outputs.cpu())\n",
    "            \n",
    "            for i in range(len(ans)):  \n",
    "                allpredicted.append((ans[i].cpu()).tolist()) \n",
    "                answers.append((predicted[i].cpu()).item())\n",
    "            totallabel += (labels.cpu()).tolist()\n",
    "\n",
    "            # totoal\n",
    "            total += labels.size(0)\n",
    "            total_correct += (predicted == labels).sum().item()\n",
    "            total_false += (predicted != labels).sum().item()\n",
    "            c = (predicted == labels).squeeze()\n",
    "            for i in range(labels.size(0)):\n",
    "                label = labels[i]\n",
    "                class_correct[label] += c[i].item()\n",
    "                class_total[label] += 1\n",
    "        \n",
    "    for i, c in enumerate(classes):\n",
    "        print('Accuracy of %5s : %8.4f %%' % (c, 100 * class_correct[i] / class_total[i]))\n",
    "    # Accuracy\n",
    "    print('\\nAccuracy on the ALL test images: %.4f %%'\n",
    "          % (100 * total_correct / total))\n",
    "    return allpredicted,totallabel,answers\n",
    "\n",
    "if __name__ == \"__main__\":\n",
    "    predicted,labels,answers = test(test_loader)"
   ]
  },
  {
   "cell_type": "code",
   "execution_count": 65,
   "id": "6dd27a26",
   "metadata": {},
   "outputs": [
    {
     "data": {
      "image/png": "[encoded data removed]",
      "text/plain": [
       "<Figure size 576x432 with 1 Axes>"
      ]
     },
     "metadata": {
      "needs_background": "light"
     },
     "output_type": "display_data"
    }
   ],
   "source": [
    "from sklearn.metrics import roc_curve, roc_auc_score\n",
    "from sklearn.preprocessing import label_binarize\n",
    "\n",
    "\n",
    "def roc_auc(y_true,y_pred,classes,title):\n",
    "\n",
    "    y_true_binarized = label_binarize(y_true, classes=list(range(classes)))\n",
    "    y_pred = np.array(y_pred)\n",
    "\n",
    "    roc_auc_scores = roc_auc_score(y_true, y_pred,average='macro',multi_class='ovr')\n",
    "    fpr = dict()\n",
    "    tpr = dict()\n",
    "    roc_auc = dict()\n",
    "    for i in range(classes):\n",
    "        fpr[i], tpr[i], _ = roc_curve(y_true_binarized[:, i], y_pred[:, i])\n",
    "        roc_auc[i] = roc_auc_score(y_true_binarized[:, i], y_pred[:, i])\n",
    "\n",
    "    # Plot the ROC curves\n",
    "    plt.figure(figsize=(8, 6))\n",
    "    for i in range(classes):\n",
    "        plt.plot(fpr[i], tpr[i], label='Class %d (AUC = %0.2f)' % (i, roc_auc[i]))\n",
    "\n",
    "    plt.plot([0, 1], [0, 1], 'k--')  # Plot the random chance curve\n",
    "    plt.xlim([0.0, 1.0])\n",
    "    plt.ylim([0.0, 1.05])\n",
    "    plt.xlabel('False Positive Rate')\n",
    "    plt.ylabel('True Positive Rate')\n",
    "    plt.title('Receiver Operating Characteristic_'+title)\n",
    "    plt.legend(loc=\"lower right\")\n",
    "\n",
    "    # Add micro-average ROC AUC score to the plot\n",
    "    plt.text(0.555, 0.34, 'Micro-average ROC AUC = %0.2f' % roc_auc_scores, fontsize=12, bbox=dict(facecolor='white', edgecolor='black'))\n",
    "    \n",
    "    \n",
    "roc_auc(labels,predicted,6,'testing')"
   ]
  },
  {
   "cell_type": "code",
   "execution_count": 86,
   "id": "0155996d",
   "metadata": {},
   "outputs": [
    {
     "name": "stderr",
     "output_type": "stream",
     "text": [
      "100%|██████████| 31/31 [00:10<00:00,  3.09it/s]"
     ]
    },
    {
     "name": "stdout",
     "output_type": "stream",
     "text": [
      "Accuracy of     0 : 100.0000 %\n",
      "Accuracy of     1 : 100.0000 %\n",
      "Accuracy of     2 : 100.0000 %\n",
      "Accuracy of     3 : 100.0000 %\n",
      "Accuracy of     4 : 100.0000 %\n",
      "Accuracy of     5 : 100.0000 %\n",
      "\n",
      "Accuracy on the ALL test images: 100.0000 %\n"
     ]
    },
    {
     "name": "stderr",
     "output_type": "stream",
     "text": [
      "\n"
     ]
    }
   ],
   "source": [
    "train_predicted,train_labels,train_answers = test(train_loader)"
   ]
  },
  {
   "cell_type": "code",
   "execution_count": 87,
   "id": "4bd9984d",
   "metadata": {},
   "outputs": [
    {
     "name": "stderr",
     "output_type": "stream",
     "text": [
      "100%|██████████| 8/8 [00:03<00:00,  2.60it/s]"
     ]
    },
    {
     "name": "stdout",
     "output_type": "stream",
     "text": [
      "Accuracy of     0 :  99.1903 %\n",
      "Accuracy of     1 :  98.8095 %\n",
      "Accuracy of     2 :  98.2533 %\n",
      "Accuracy of     3 :  98.5714 %\n",
      "Accuracy of     4 :  99.7151 %\n",
      "Accuracy of     5 :  99.5671 %\n",
      "\n",
      "Accuracy on the ALL test images: 98.9280 %\n"
     ]
    },
    {
     "name": "stderr",
     "output_type": "stream",
     "text": [
      "\n"
     ]
    }
   ],
   "source": [
    "val_predicted,val_labels,val_answers = test(valid_loader)"
   ]
  },
  {
   "cell_type": "code",
   "execution_count": 76,
   "id": "7f916110",
   "metadata": {},
   "outputs": [
    {
     "data": {
      "image/png": "[encoded data removed]",
      "text/plain": [
       "<Figure size 576x432 with 1 Axes>"
      ]
     },
     "metadata": {
      "needs_background": "light"
     },
     "output_type": "display_data"
    },
    {
     "data": {
      "image/png": "[encoded data removed]",
      "text/plain": [
       "<Figure size 576x432 with 1 Axes>"
      ]
     },
     "metadata": {
      "needs_background": "light"
     },
     "output_type": "display_data"
    }
   ],
   "source": [
    "roc_auc(labels,predicted,6,'training')\n",
    "roc_auc(labels,predicted,6,'valid')"
   ]
  },
  {
   "cell_type": "code",
   "execution_count": 90,
   "id": "6b1c7224",
   "metadata": {},
   "outputs": [
    {
     "name": "stdout",
     "output_type": "stream",
     "text": [
      "Overall MAE - Training: 0.0002\n",
      "Overall RMSE - Training: 0.0013\n",
      "Overall MAE - Validation: 0.0047\n",
      "Overall RMSE - Validation: 0.0483\n",
      "Overall MAE - Testing: 0.0024\n",
      "Overall RMSE - Testing: 0.0353\n"
     ]
    }
   ],
   "source": [
    "from sklearn.metrics import mean_absolute_error, mean_squared_error, confusion_matrix\n",
    "\n",
    "train_y_true_binarized = label_binarize(train_labels, classes=list(range(6)))\n",
    "val_y_true_binarized = label_binarize(val_labels, classes=list(range(6)))\n",
    "y_true_binarized = label_binarize(labels, classes=list(range(6)))\n",
    "\n",
    "train_mae = mean_absolute_error(train_y_true_binarized, train_predicted)\n",
    "train_rmse = np.sqrt(mean_squared_error(train_y_true_binarized, train_predicted))\n",
    "\n",
    "val_mae = mean_absolute_error(val_y_true_binarized, val_predicted)\n",
    "val_rmse = np.sqrt(mean_squared_error(val_y_true_binarized, val_predicted))\n",
    "\n",
    "test_mae = mean_absolute_error(y_true_binarized, predicted)\n",
    "test_rmse = np.sqrt(mean_squared_error(y_true_binarized, predicted))\n",
    "\n",
    "\n",
    "\n",
    "print(\"Overall MAE - Training: {:.4f}\".format(train_mae))\n",
    "print(\"Overall RMSE - Training: {:.4f}\".format(train_rmse))\n",
    "print(\"Overall MAE - Validation: {:.4f}\".format(val_mae))\n",
    "print(\"Overall RMSE - Validation: {:.4f}\".format(val_rmse))\n",
    "print(\"Overall MAE - Testing: {:.4f}\".format(test_mae))\n",
    "print(\"Overall RMSE - Testing: {:.4f}\".format(test_rmse))"
   ]
  },
  {
   "cell_type": "code",
   "execution_count": 89,
   "id": "acc48219",
   "metadata": {},
   "outputs": [
    {
     "data": {
      "image/png": "[encoded data removed]",
      "text/plain": [
       "<Figure size 576x432 with 2 Axes>"
      ]
     },
     "metadata": {
      "needs_background": "light"
     },
     "output_type": "display_data"
    },
    {
     "data": {
      "image/png": "[encoded data removed]",
      "text/plain": [
       "<Figure size 576x432 with 2 Axes>"
      ]
     },
     "metadata": {
      "needs_background": "light"
     },
     "output_type": "display_data"
    },
    {
     "data": {
      "image/png": "[encoded data removed]",
      "text/plain": [
       "<Figure size 576x432 with 2 Axes>"
      ]
     },
     "metadata": {
      "needs_background": "light"
     },
     "output_type": "display_data"
    }
   ],
   "source": [
    "import seaborn as sns\n",
    "import matplotlib.pyplot as plt\n",
    "\n",
    "# Calculate confusion matrices\n",
    "train_cm = confusion_matrix(train_labels, train_answers)\n",
    "val_cm = confusion_matrix(val_labels, val_answers)\n",
    "test_cm = confusion_matrix(labels, answers)\n",
    "\n",
    "# Define class labels\n",
    "class_labels = ['a_Good', 'b_Moderate','c_Unhealthy_for_Sensitive_Groups', 'd_Unhealthy','e_Very_Unhealthy', 'f_Severe']\n",
    "\n",
    "# Plot confusion matrix for training set\n",
    "plt.figure(figsize=(8, 6))\n",
    "sns.heatmap(train_cm, annot=True, cmap='Blues', fmt='d', xticklabels=class_labels, yticklabels=class_labels)\n",
    "plt.title('Confusion Matrix - Training')\n",
    "plt.xlabel('Predicted Label')\n",
    "plt.ylabel('True Label')\n",
    "plt.xticks(rotation=45, ha='right')\n",
    "plt.tight_layout()\n",
    "plt.show()\n",
    "\n",
    "# Plot confusion matrix for validation set\n",
    "plt.figure(figsize=(8, 6))\n",
    "sns.heatmap(val_cm, annot=True, cmap='Greens', fmt='d', xticklabels=class_labels, yticklabels=class_labels)\n",
    "plt.title('Confusion Matrix - Validation')\n",
    "plt.xlabel('Predicted Label')\n",
    "plt.ylabel('True Label')\n",
    "plt.xticks(rotation=45, ha='right')\n",
    "plt.tight_layout()\n",
    "plt.show()\n",
    "\n",
    "# Plot confusion matrix for testing set\n",
    "plt.figure(figsize=(8, 6))\n",
    "sns.heatmap(test_cm, annot=True, cmap='Reds', fmt='d', xticklabels=class_labels, yticklabels=class_labels)\n",
    "plt.title('Confusion Matrix - Testing')\n",
    "plt.xlabel('Predicted Label')\n",
    "plt.ylabel('True Label')\n",
    "plt.xticks(rotation=45, ha='right')\n",
    "plt.tight_layout()\n",
    "plt.show()"
   ]
  },
  {
   "cell_type": "code",
   "execution_count": 129,
   "id": "0c47e885",
   "metadata": {},
   "outputs": [],
   "source": [
    "from PIL import Image\n",
    "import pandas as pd\n",
    "\n",
    "\n",
    "PATH_TO_WEIGHTS = './pth/seq-resnet50-model-1.00-best_train_acc.pth'\n",
    "test_path = '/home/dannytu/Deeplearning/Final/dataset/Dataset_for_AQI_Classification/testing_data.csv'\n",
    "test_df = pd.read_csv(test_path)\n",
    "testfile = test_df['Filename']\n",
    "model = torch.load(PATH_TO_WEIGHTS)\n",
    "model.eval()\n",
    "test_probabilities = []\n",
    "\n",
    "\n",
    "with torch.no_grad():\n",
    "    for img in testfile:\n",
    "        im = Image.open('./dataset/Air_Pollution_Image_Dataset/Combined_Dataset/All_img/'+img)\n",
    "        test_img = test_transforms(im)\n",
    "        test_img = test_img.cuda(device=device)\n",
    "        test_img = test_img.unsqueeze(0) #flatten\n",
    "        outputs = model(test_img)\n",
    "        softmax = torch.nn.Softmax(dim=1)#dim=1\n",
    "        ans = softmax(outputs.cpu())\n",
    "        test_probabilities.append([img]+(ans.tolist()[0]))"
   ]
  },
  {
   "cell_type": "code",
   "execution_count": 128,
   "id": "827a61e2",
   "metadata": {},
   "outputs": [],
   "source": [
    "\n",
    "test_probabilities_df = pd.DataFrame(test_probabilities, \n",
    "                                    columns=['Filename','a_Good', 'b_Moderate','c_Unhealthy_for_Sensitive_Groups', 'd_Unhealthy','e_Very_Unhealthy', 'f_Severe'])\n",
    "\n",
    "test_probabilities_df.to_csv('./test_results.csv', index=False)"
   ]
  }
 ],
 "metadata": {
  "kernelspec": {
   "display_name": "Python 3 (ipykernel)",
   "language": "python",
   "name": "python3"
  },
  "language_info": {
   "codemirror_mode": {
    "name": "ipython",
    "version": 3
   },
   "file_extension": ".py",
   "mimetype": "text/x-python",
   "name": "python",
   "nbconvert_exporter": "python",
   "pygments_lexer": "ipython3",
   "version": "3.9.12"
  }
 },
 "nbformat": 4,
 "nbformat_minor": 5
}
